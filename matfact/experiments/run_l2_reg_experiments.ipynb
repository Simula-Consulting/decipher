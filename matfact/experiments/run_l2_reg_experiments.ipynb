{
 "cells": [
  {
   "cell_type": "markdown",
   "metadata": {},
   "source": [
    "### L2 regularisation experiment\n",
    "\n",
    "This notebook runs an experiment to understant the effect of the L2 regularisation on the predicitons of matfact.  \n",
    "The risk state are labeled with integers from 1 to 4: [1: Normal, 2: LowRisk, 3: HighRisk, 4: Cancer]  \n",
    "Since the data is highly imbalanced towards Normal and Low risk states, there are a majority of 1 and 2 labels in the datasets.  \n",
    "L2 regularisation on both U and V might promote lower values (Labels 1 and 2) in M.  \n",
    "\n",
    "This experiment logs with mlflow the matfact results with increasing regularisation parameters for U and V with a synthetic dataset.  \n",
    "Then, using the same dataset, the distribution of the labels is inverted so that the higher risk is represented by labels 1 and 2 and the lower risks by labels 3 and 4. This way the imbalance is also inverted having a mayority of labels 4 and 3.  \n",
    "The results of the matfact are also logged to be later compared with visualisations.  \n",
    "\n",
    "\n",
    "While running the experiment the confusion matrix for each different combination of regularisation parameters are generated and saved into an image in the results directory. \n",
    "The rest of the visualisations (matthew, accuracy, recall, precision) are generated at the end and saved in the same directory."
   ]
  },
  {
   "cell_type": "code",
   "execution_count": 1,
   "metadata": {},
   "outputs": [
    {
     "name": "stderr",
     "output_type": "stream",
     "text": [
      "INFO:root:normal dataset X histogram: [(0, 10000), (1, 506488), (2, 452938), (3, 29701), (4, 873)]\n",
      "INFO:root:normaldataset M histogram: [(1, 581153), (2, 404043), (3, 14391), (4, 413)]\n",
      "INFO:root:inverted dataset X histogram: [(0, 10000), (1, 873), (2, 29701), (3, 452938), (4, 506488)]\n",
      "INFO:root:inverteddataset M histogram: [(1, 413), (2, 14391), (3, 404043), (4, 581153)]\n",
      " 10%|█         | 210/2000 [00:04<00:34, 51.14it/s]\n",
      " 10%|█         | 210/2000 [00:04<00:35, 50.87it/s]\n",
      " 10%|█         | 210/2000 [00:03<00:33, 52.82it/s]\n",
      " 10%|█         | 210/2000 [00:04<00:34, 51.58it/s]\n",
      " 10%|█         | 210/2000 [00:04<00:36, 49.37it/s]\n",
      " 10%|█         | 210/2000 [00:04<00:40, 44.26it/s]\n",
      " 10%|█         | 210/2000 [00:04<00:35, 50.77it/s]\n",
      " 10%|█         | 210/2000 [00:04<00:35, 49.75it/s]\n"
     ]
    }
   ],
   "source": [
    "from l2_regularization_experiments import run_l2_regularization_experiments\n",
    "\n",
    "# Run experiments with increasing parameters for the U and V l2 regularisations.\n",
    "lambda_values = [0, 10]  # [0,3,9,18,21,63,126,189]  # [0]  # , int(1e12)]  #\n",
    "run_l2_regularization_experiments(lambda_values)"
   ]
  },
  {
   "cell_type": "code",
   "execution_count": null,
   "metadata": {},
   "outputs": [],
   "source": [
    "from mlflow import MlflowClient\n",
    "\n",
    "for e in MlflowClient().search_experiments():\n",
    "    print(e.experiment_id, \":\",e.name)"
   ]
  },
  {
   "cell_type": "code",
   "execution_count": 16,
   "metadata": {},
   "outputs": [],
   "source": [
    "import matplotlib.pyplot as plt\n",
    "from pathlib import Path\n",
    "\n",
    "image_format = \"jpg\"\n",
    "image_dir = Path(\"/Users/martaq/Develop/decipher/matfact/results/figures\")\n",
    "experiment_list = [\"471306282903400606\",\"311848354679767989\"]\n",
    "image_sub_path = f\"U0_V0/confusion_.{image_format}\"\n",
    "image_paths = [image_dir / subdir / image_sub_path for subdir in experiment_list]\n",
    "\n",
    "fig, axs = plt.subplots(1, 2, figsize=(10,5))\n",
    "for i, image_path in enumerate(image_paths):\n",
    "    image = plt.imread(image_path)\n",
    "    axs[i].imshow(image)\n",
    "    axs[i].axis('off')\n",
    "    axs[i].set_title(image_path.parent.name)\n",
    "fig.savefig(\"/Users/martaq/Develop/decipher/matfact/results/test_2.jpg\") # , format='svg', dpi=1200)"
   ]
  },
  {
   "cell_type": "code",
   "execution_count": 141,
   "metadata": {},
   "outputs": [],
   "source": [
    "import numpy as np\n",
    "import math\n",
    "def fetch_probabilities(lambda_values):\n",
    "    size = len(lambda_values)\n",
    "    p = [i**2 for i in range(1, math.floor(size/2) + 1)] + [i**2 for i in range(math.ceil(size/2), 0, -1)]\n",
    "    print(len(p))\n",
    "    return [i/sum(p) for i in p]\n",
    "\n",
    "def fetch_lambda_samples(lambda_values, sample_num):\n",
    "    lambda_samples = []\n",
    "    if sample_num == len(lambda_values):\n",
    "        lambda_samples =  lambda_values\n",
    "    else:\n",
    "        lambda_samples.append(lambda_values[0])\n",
    "        p = fetch_probabilities(lambda_values[1:-1])\n",
    "        lambda_samples.extend(sorted(np.random.choice(lambda_values[1:-1], sample_num - 2, p=p,replace=False)))\n",
    "        lambda_samples.append(lambda_values[-1])\n",
    "    return lambda_samples"
   ]
  },
  {
   "cell_type": "code",
   "execution_count": 147,
   "metadata": {},
   "outputs": [
    {
     "data": {
      "text/plain": [
       "[0, 9, 18, 21, 63, 126, 189]"
      ]
     },
     "execution_count": 147,
     "metadata": {},
     "output_type": "execute_result"
    }
   ],
   "source": [
    "lambda_values = [0,9,18,21,63,126,189]\n",
    "sample_num = 7\n",
    "fetch_lambda_samples(lambda_values, sample_num)"
   ]
  },
  {
   "cell_type": "code",
   "execution_count": 163,
   "metadata": {},
   "outputs": [
    {
     "data": {
      "text/plain": [
       "1"
      ]
     },
     "execution_count": 163,
     "metadata": {},
     "output_type": "execute_result"
    }
   ],
   "source": [
    "import pandas as pd\n",
    "\n",
    "df = pd.DataFrame({\n",
    "    \"lambda1\": [0, 0, 0, 3, 3, 3, 8, 8, 8], \n",
    "    \"lambda2\": [0, 3, 8, 0, 3, 8, 0, 3, 8],\n",
    "    \"artifac\": [1, 1, 1, 1, 1, 1, 1, 1, 1],\n",
    "    })\n",
    "\n",
    "df[((df[\"lambda1\"]==0)&(df[\"lambda2\"]==8))].iat[0,-1]"
   ]
  },
  {
   "cell_type": "code",
   "execution_count": 2,
   "metadata": {},
   "outputs": [
    {
     "name": "stdout",
     "output_type": "stream",
     "text": [
      "file:///Users/martaq/Develop/decipher/matfact/experiments/mlruns\n",
      "<Experiment: artifact_location='file:///Users/martaq/Develop/decipher/matfact/experiments/mlruns/395462898655105160', creation_time=1672233095448, experiment_id='395462898655105160', last_update_time=1672233095448, lifecycle_stage='active', name='exp_inverted_221228_141135', tags={}>\n",
      "<Experiment: artifact_location='file:///Users/martaq/Develop/decipher/matfact/experiments/mlruns/441819387276405595', creation_time=1672233087936, experiment_id='441819387276405595', last_update_time=1672233087936, lifecycle_stage='active', name='exp_normal_221228_141127', tags={}>\n",
      "<Experiment: artifact_location='file:///Users/martaq/Develop/decipher/matfact/experiments/mlruns/738801988578485607', creation_time=1672232983874, experiment_id='738801988578485607', last_update_time=1672232983874, lifecycle_stage='active', name='exp_inverted_221228_140943', tags={}>\n",
      "<Experiment: artifact_location='file:///Users/martaq/Develop/decipher/matfact/experiments/mlruns/494427149228660039', creation_time=1672232975202, experiment_id='494427149228660039', last_update_time=1672232975202, lifecycle_stage='active', name='exp_normal_221228_140935', tags={}>\n",
      "<Experiment: artifact_location='file:///Users/martaq/Develop/decipher/matfact/experiments/mlruns/728974773208007845', creation_time=1672232722989, experiment_id='728974773208007845', last_update_time=1672232722989, lifecycle_stage='active', name='exp_inverted_221228_140522', tags={}>\n",
      "<Experiment: artifact_location='file:///Users/martaq/Develop/decipher/matfact/experiments/mlruns/430636839865782847', creation_time=1672232715476, experiment_id='430636839865782847', last_update_time=1672232715476, lifecycle_stage='active', name='exp_normal_221228_140515', tags={}>\n",
      "<Experiment: artifact_location='file:///Users/martaq/Develop/decipher/matfact/experiments/mlruns/536924465359610870', creation_time=1672232642018, experiment_id='536924465359610870', last_update_time=1672232642018, lifecycle_stage='active', name='exp_inverted_221228_140402', tags={}>\n",
      "<Experiment: artifact_location='file:///Users/martaq/Develop/decipher/matfact/experiments/mlruns/457729514951749725', creation_time=1672232634425, experiment_id='457729514951749725', last_update_time=1672232634425, lifecycle_stage='active', name='exp_normal_221228_140354', tags={}>\n",
      "<Experiment: artifact_location='file:///Users/martaq/Develop/decipher/matfact/experiments/mlruns/835183440145635303', creation_time=1672232561762, experiment_id='835183440145635303', last_update_time=1672232561762, lifecycle_stage='active', name='exp_normal_221228_140241', tags={}>\n",
      "<Experiment: artifact_location='file:///Users/martaq/Develop/decipher/matfact/experiments/mlruns/836960403240543888', creation_time=1672231868848, experiment_id='836960403240543888', last_update_time=1672231868848, lifecycle_stage='active', name='exp_inverted_221228_135108', tags={}>\n",
      "<Experiment: artifact_location='file:///Users/martaq/Develop/decipher/matfact/experiments/mlruns/174186293738201309', creation_time=1672231861266, experiment_id='174186293738201309', last_update_time=1672231861266, lifecycle_stage='active', name='exp_normal_221228_135101', tags={}>\n"
     ]
    }
   ],
   "source": [
    "import mlflow\n",
    "from mlflow import MlflowClient\n",
    "from mlflow.entities import ViewType\n",
    "print(mlflow.get_tracking_uri())\n",
    "\n",
    "# Check existing experiments (remove if necessary)\n",
    "client = MlflowClient()\n",
    "for e in client.search_experiments(ViewType.ALL):\n",
    "    print(e)\n",
    "    client.delete_experiment(e.experiment_id)\n",
    "\n",
    "! rm -r mlruns/.trash/*\n",
    "! rm -r ../results/figures/*\n",
    "\n",
    "# Clean experiments?\n",
    "# client = MlflowClient()\n",
    "# client.delete_experiment(\"658405861631685322\")"
   ]
  },
  {
   "cell_type": "code",
   "execution_count": 7,
   "metadata": {},
   "outputs": [],
   "source": [
    "import matplotlib.pyplot as plt\n",
    "fig, axs = plt.subplots(5,2)"
   ]
  },
  {
   "cell_type": "code",
   "execution_count": 4,
   "metadata": {},
   "outputs": [
    {
     "data": {
      "text/plain": [
       "2"
      ]
     },
     "execution_count": 4,
     "metadata": {},
     "output_type": "execute_result"
    }
   ],
   "source": [
    "len(axs)"
   ]
  },
  {
   "cell_type": "code",
   "execution_count": null,
   "metadata": {},
   "outputs": [],
   "source": []
  }
 ],
 "metadata": {
  "kernelspec": {
   "display_name": "Python 3.10.8 64-bit ('matfact-Y5vYlVsr-py3.10')",
   "language": "python",
   "name": "python3"
  },
  "language_info": {
   "codemirror_mode": {
    "name": "ipython",
    "version": 3
   },
   "file_extension": ".py",
   "mimetype": "text/x-python",
   "name": "python",
   "nbconvert_exporter": "python",
   "pygments_lexer": "ipython3",
   "version": "3.10.8"
  },
  "orig_nbformat": 4,
  "vscode": {
   "interpreter": {
    "hash": "e0ec3137aa09a0892964bb8b6121cd530f073d67f8584deec956dfb2e67274a5"
   }
  }
 },
 "nbformat": 4,
 "nbformat_minor": 2
}
