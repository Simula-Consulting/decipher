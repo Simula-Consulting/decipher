{
 "cells": [
  {
   "cell_type": "markdown",
   "metadata": {},
   "source": [
    "### L2 regularisation experiment\n",
    "\n",
    "This notebook runs an experiment to understant the effect of the L2 regularisation on the predicitons of matfact.  \n",
    "The risk state are labeled with integers from 1 to 4: [1: Normal, 2: LowRisk, 3: HighRisk, 4: Cancer]  \n",
    "Since the data is highly imbalanced towards Normal and Low risk states, there are a majority of 1 and 2 labels in the datasets.  \n",
    "L2 regularisation on both U and V might promote lower values (Labels 1 and 2) in M.  \n",
    "\n",
    "This experiment logs with mlflow the matfact results with increasing regularisation parameters for U and V with a synthetic dataset.  \n",
    "Then, using the same dataset, the distribution of the labels is inverted so that the higher risk is represented by labels 1 and 2 and the lower risks by labels 3 and 4. This way the imbalance is also inverted having a mayority of labels 4 and 3.  \n",
    "The results of the matfact are also logged to be later compared with visualisations.  \n",
    "\n",
    "\n",
    "While running the experiment the confusion matrix for each different combination of regularisation parameters are generated and saved into an image in the results directory. \n",
    "The rest of the visualisations (matthew, accuracy, recall, precision) are generated at the end and saved in the same directory."
   ]
  },
  {
   "cell_type": "code",
   "execution_count": 1,
   "metadata": {},
   "outputs": [],
   "source": [
    "from l2_regularization.l2_reg_experiment import run_l2_regularization_experiments\n",
    "from l2_regularization.l2_reg_experiment import MATFACT_ALS, SKLEARN_NMF, SKLEARN_DL, SKLEARN_TSVD"
   ]
  },
  {
   "cell_type": "code",
   "execution_count": null,
   "metadata": {},
   "outputs": [],
   "source": [
    "# Run experiments with increasing parameters for the U and V l2 regularisations.\n",
    "lambda_values = [0, 21, 189] # [0, 18, 63, 189]  # [int(1e12)]\n",
    "lambda_values_l1 = [0.005, 0.01, 0.015] # [0, 0.005, 0.01, 0.015] \n",
    "run_l2_regularization_experiments(\n",
    "    lambda_values, \n",
    "    experiment_name=MATFACT_ALS+\"_l1\", \n",
    "    model_type=MATFACT_ALS, \n",
    "    U_l1_regularization=True, \n",
    "    lambda_values_l1=lambda_values_l1,\n",
    "    N=100, T=200, rank=5, sparsity=90,\n",
    ")"
   ]
  },
  {
   "cell_type": "code",
   "execution_count": null,
   "metadata": {},
   "outputs": [],
   "source": [
    "# Run experiments with increasing parameters for the U and V l2 regularisations.\n",
    "lambda_values = [0, 21, 189] # [0, 18, 63, 189]  # [int(1e12)]\n",
    "lambda_values_l1 = [0.005, 0.01, 0.015] # [0, 0.005, 0.01, 0.015] \n",
    "run_l2_regularization_experiments(\n",
    "    lambda_values, \n",
    "    experiment_name=MATFACT_ALS+\"_l2\", \n",
    "    model_type=MATFACT_ALS, \n",
    "    lambda_values_l1=lambda_values_l1\n",
    ")"
   ]
  },
  {
   "cell_type": "code",
   "execution_count": null,
   "metadata": {},
   "outputs": [],
   "source": [
    "# Run experiments for sklearn non-negative matrix factorization\n",
    "lambda_values = [0,9,18,21,63,126,189]  # [0, 18, 63, 189]  # [int(1e12)]  #\n",
    "run_l2_regularization_experiments(lambda_values, model_type=SKLEARN_NMF)  # "
   ]
  },
  {
   "cell_type": "code",
   "execution_count": null,
   "metadata": {},
   "outputs": [],
   "source": [
    "import mlflow\n",
    "from mlflow import MlflowClient\n",
    "from mlflow.entities import ViewType\n",
    "print(mlflow.get_tracking_uri())\n",
    "\n",
    "# Check existing experiments (remove if necessary)\n",
    "client = MlflowClient()\n",
    "for e in client.search_experiments(ViewType.ALL):\n",
    "    print(e)\n",
    "    client.delete_experiment(e.experiment_id)\n",
    "\n",
    "! rm -r mlruns/.trash/*\n",
    "# ! rm -r ../results/*\n"
   ]
  },
  {
   "cell_type": "code",
   "execution_count": null,
   "metadata": {},
   "outputs": [],
   "source": [
    "from mlflow import MlflowClient\n",
    "\n",
    "experiments_dict = {}\n",
    "for e in MlflowClient().search_experiments():\n",
    "    experiments_dict[e.experiment_id] = e.name\n",
    "    print(f\"{e.experiment_id}: {e.name}\")"
   ]
  },
  {
   "cell_type": "code",
   "execution_count": null,
   "metadata": {},
   "outputs": [],
   "source": [
    "from mlflow import MlflowClient\n",
    "\n",
    "# Clean experiments?\n",
    "client = MlflowClient()\n",
    "exp_ids = experiments_dict.keys()  # [\"\"]\n",
    "for exp_id in exp_ids:\n",
    "    client.delete_experiment(exp_id)\n",
    "    ! rm -r mlruns/.trash/*$exp_id*"
   ]
  },
  {
   "cell_type": "code",
   "execution_count": null,
   "metadata": {},
   "outputs": [],
   "source": [
    "results_dirs =  ! ls ../results/\n",
    "print(results_dirs)"
   ]
  },
  {
   "cell_type": "code",
   "execution_count": null,
   "metadata": {},
   "outputs": [],
   "source": [
    "rm_results_dirs = []\n",
    "for dir in rm_results_dirs:\n",
    "    ! rm -r ../results/$dir"
   ]
  }
 ],
 "metadata": {
  "kernelspec": {
   "display_name": "Python 3.10.8 64-bit ('matfact-Y5vYlVsr-py3.10')",
   "language": "python",
   "name": "python3"
  },
  "language_info": {
   "codemirror_mode": {
    "name": "ipython",
    "version": 3
   },
   "file_extension": ".py",
   "mimetype": "text/x-python",
   "name": "python",
   "nbconvert_exporter": "python",
   "pygments_lexer": "ipython3",
   "version": "3.10.8"
  },
  "orig_nbformat": 4,
  "vscode": {
   "interpreter": {
    "hash": "e0ec3137aa09a0892964bb8b6121cd530f073d67f8584deec956dfb2e67274a5"
   }
  }
 },
 "nbformat": 4,
 "nbformat_minor": 2
}
